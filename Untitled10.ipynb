{
 "cells": [
  {
   "cell_type": "code",
   "execution_count": 15,
   "id": "a1cca4e4-14ee-4da9-a7de-58635bf96246",
   "metadata": {
    "scrolled": true
   },
   "outputs": [
    {
     "name": "stdin",
     "output_type": "stream",
     "text": [
      "Ask your cybersecurity question (type 'quit' to exit):  How do i secure my email account\n"
     ]
    },
    {
     "name": "stdout",
     "output_type": "stream",
     "text": [
      "(From your knowledge base)\n",
      "Use a strong password, enable 2FA, and be cautious of suspicious emails.\n"
     ]
    },
    {
     "name": "stdin",
     "output_type": "stream",
     "text": [
      "Ask your cybersecurity question (type 'quit' to exit):  quit\n"
     ]
    }
   ],
   "source": [
    "import openai\n",
    "import pandas as pd\n",
    "import os\n",
    "from sklearn.feature_extraction.text import TfidfVectorizer\n",
    "from sklearn.metrics.pairwise import cosine_similarity\n",
    "\n",
    "# Set your OpenAI API key here\n",
    "openai.api_key = os.getenv(\"OPENAI_API_KEY\")\n",
    "\n",
    "# Load your CSV Q&A bank\n",
    "qa_data = pd.read_csv(\"Cybersecurity_QA_500 .csv\")  # keep the space exactly as your file name\n",
    "\n",
    "# Combine questions and answers into searchable documents\n",
    "qa_data['combined'] = qa_data['Question'] + \" \" + qa_data['Answer']\n",
    "\n",
    "# Prepare TF-IDF vectorizer to search your local data\n",
    "vectorizer = TfidfVectorizer().fit(qa_data['combined'])\n",
    "tfidf_matrix = vectorizer.transform(qa_data['combined'])\n",
    "\n",
    "# Function to search your CSV first\n",
    "def search_local_qa(user_question, threshold=0.5):\n",
    "    user_vec = vectorizer.transform([user_question])\n",
    "    similarity = cosine_similarity(user_vec, tfidf_matrix)\n",
    "    top_match_idx = similarity.argmax()\n",
    "    top_score = similarity[0, top_match_idx]\n",
    "    \n",
    "    if top_score >= threshold:\n",
    "        answer = qa_data.iloc[top_match_idx]['Answer']\n",
    "        return f\"(From your knowledge base)\\n{answer}\"\n",
    "    else:\n",
    "        return None\n",
    "\n",
    "# Function to ask OpenAI if no good local match found\n",
    "def ask_openai(user_question):\n",
    "    response = openai.ChatCompletion.create(\n",
    "        model=\"gpt-4o\",\n",
    "        messages=[\n",
    "            {\"role\": \"system\", \"content\": \"You are a helpful cybersecurity assistant. You give simple, clear advice on how people can stay safe online.\"},\n",
    "            {\"role\": \"user\", \"content\": user_question}\n",
    "        ]\n",
    "    )\n",
    "    return response.choices[0].message.content\n",
    "\n",
    "# Main chatbot function\n",
    "def chatbot(user_question):\n",
    "    local_answer = search_local_qa(user_question)\n",
    "    if local_answer:\n",
    "        return local_answer\n",
    "    else:\n",
    "        print(\"(No match found in local data, asking OpenAI...)\")\n",
    "        return ask_openai(user_question)\n",
    "\n",
    "# Run the chatbot\n",
    "if __name__ == \"__main__\":\n",
    "    while True:\n",
    "        user_input = input(\"Ask your cybersecurity question (type 'quit' to exit): \")\n",
    "        if user_input.lower() == \"quit\":\n",
    "            break\n",
    "        answer = chatbot(user_input)\n",
    "        print(answer)\n"
   ]
  },
  {
   "cell_type": "code",
   "execution_count": 17,
   "id": "7f9d9706-00fc-4431-9f52-de05b41bc614",
   "metadata": {},
   "outputs": [
    {
     "name": "stderr",
     "output_type": "stream",
     "text": [
      "2025-06-18 13:23:55.278 \n",
      "  \u001b[33m\u001b[1mWarning:\u001b[0m to view this Streamlit app on a browser, run it with the following\n",
      "  command:\n",
      "\n",
      "    streamlit run C:\\Users\\Hp\\anaconda3\\Lib\\site-packages\\ipykernel_launcher.py [ARGUMENTS]\n",
      "2025-06-18 13:23:55.278 Session state does not function when running a script without `streamlit run`\n"
     ]
    }
   ],
   "source": [
    "import streamlit as st\n",
    "import openai\n",
    "import pandas as pd\n",
    "from sklearn.feature_extraction.text import TfidfVectorizer\n",
    "from sklearn.metrics.pairwise import cosine_similarity\n",
    "import os\n",
    "\n",
    "# Set your OpenAI API key\n",
    "openai.api_key = os.getenv(\"OPENAI_API_KEY\")  # make sure to set this environment variable in deployment\n",
    "\n",
    "# Load the CSV file (make sure this file is present in the same folder as the app)\n",
    "qa_data = pd.read_csv(\"Cybersecurity_QA_500 .csv\")  # note the space before .csv (keep it exactly as your file name)\n",
    "qa_data['combined'] = qa_data['Question'] + \" \" + qa_data['Answer']\n",
    "\n",
    "# Prepare TF-IDF vectorizer to search local data\n",
    "vectorizer = TfidfVectorizer().fit(qa_data['combined'])\n",
    "tfidf_matrix = vectorizer.transform(qa_data['combined'])\n",
    "\n",
    "def search_local_qa(user_question, threshold=0.5):\n",
    "    user_vec = vectorizer.transform([user_question])\n",
    "    similarity = cosine_similarity(user_vec, tfidf_matrix)\n",
    "    top_match_idx = similarity.argmax()\n",
    "    top_score = similarity[0, top_match_idx]\n",
    "    \n",
    "    if top_score >= threshold:\n",
    "        answer = qa_data.iloc[top_match_idx]['Answer']\n",
    "        return f\"(From your knowledge base)\\n{answer}\"\n",
    "    else:\n",
    "        return None\n",
    "\n",
    "def ask_openai(user_question):\n",
    "    response = openai.ChatCompletion.create(\n",
    "        model=\"gpt-4o\",\n",
    "        messages=[\n",
    "            {\"role\": \"system\", \"content\": \"You are a helpful cybersecurity assistant. You give simple, clear advice on how people can stay safe online.\"},\n",
    "            {\"role\": \"user\", \"content\": user_question}\n",
    "        ]\n",
    "    )\n",
    "    return response.choices[0].message.content\n",
    "\n",
    "# Streamlit interface\n",
    "st.title(\"Cybersecurity Chatbot\")\n",
    "st.write(\"Ask me anything about staying safe online!\")\n",
    "\n",
    "user_input = st.text_input(\"Your cybersecurity question:\")\n",
    "\n",
    "if user_input:\n",
    "    with st.spinner('Thinking...'):\n",
    "        local_answer = search_local_qa(user_input)\n",
    "        if local_answer:\n",
    "            st.success(local_answer)\n",
    "        else:\n",
    "            st.warning(\"No match in knowledge base. Asking AI...\")\n",
    "            ai_answer = ask_openai(user_input)\n",
    "            st.success(ai_answer)\n",
    "\n"
   ]
  },
  {
   "cell_type": "code",
   "execution_count": null,
   "id": "4ab0ae4f-e913-43c1-9347-b2321ce1833c",
   "metadata": {},
   "outputs": [],
   "source": []
  }
 ],
 "metadata": {
  "kernelspec": {
   "display_name": "Python [conda env:base] *",
   "language": "python",
   "name": "conda-base-py"
  },
  "language_info": {
   "codemirror_mode": {
    "name": "ipython",
    "version": 3
   },
   "file_extension": ".py",
   "mimetype": "text/x-python",
   "name": "python",
   "nbconvert_exporter": "python",
   "pygments_lexer": "ipython3",
   "version": "3.12.7"
  }
 },
 "nbformat": 4,
 "nbformat_minor": 5
}
